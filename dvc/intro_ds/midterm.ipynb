{
 "cells": [
  {
   "cell_type": "code",
   "execution_count": 35,
   "id": "81ef2241",
   "metadata": {},
   "outputs": [],
   "source": [
    "import numpy as np\n",
    "from datascience import *\n",
    "import matplotlib\n",
    "%matplotlib inline\n",
    "import matplotlib.pyplot as plt\n",
    "plt.style.use('fivethirtyeight')\n",
    "import warnings\n",
    "warnings.simplefilter('ignore', FutureWarning)"
   ]
  },
  {
   "cell_type": "code",
   "execution_count": 25,
   "id": "60f10a0e",
   "metadata": {},
   "outputs": [
    {
     "data": {
      "text/html": [
       "<table border=\"1\" class=\"dataframe\">\n",
       "    <thead>\n",
       "        <tr>\n",
       "            <th>song</th> <th>difficulty</th> <th>bpm</th> <th>length</th>\n",
       "        </tr>\n",
       "    </thead>\n",
       "    <tbody>\n",
       "        <tr>\n",
       "            <td>Idola         </td> <td>8         </td> <td>190 </td> <td>150   </td>\n",
       "        </tr>\n",
       "        <tr>\n",
       "            <td>Kiss Kiss Kiss</td> <td>5         </td> <td>201 </td> <td>104   </td>\n",
       "        </tr>\n",
       "        <tr>\n",
       "            <td>Clarity       </td> <td>2         </td> <td>128 </td> <td>110   </td>\n",
       "        </tr>\n",
       "        <tr>\n",
       "            <td>ECHO          </td> <td>6         </td> <td>165 </td> <td>130   </td>\n",
       "        </tr>\n",
       "        <tr>\n",
       "            <td>Papermoon     </td> <td>7         </td> <td>175 </td> <td>140   </td>\n",
       "        </tr>\n",
       "        <tr>\n",
       "            <td>Into the Night</td> <td>5         </td> <td>160 </td> <td>120   </td>\n",
       "        </tr>\n",
       "        <tr>\n",
       "            <td>Nostalogic    </td> <td>6         </td> <td>180 </td> <td>135   </td>\n",
       "        </tr>\n",
       "        <tr>\n",
       "            <td>Connect       </td> <td>7         </td> <td>172 </td> <td>128   </td>\n",
       "        </tr>\n",
       "        <tr>\n",
       "            <td>Rolling Girl  </td> <td>6         </td> <td>190 </td> <td>145   </td>\n",
       "        </tr>\n",
       "    </tbody>\n",
       "</table>"
      ],
      "text/plain": [
       "song           | difficulty | bpm  | length\n",
       "Idola          | 8          | 190  | 150\n",
       "Kiss Kiss Kiss | 5          | 201  | 104\n",
       "Clarity        | 2          | 128  | 110\n",
       "ECHO           | 6          | 165  | 130\n",
       "Papermoon      | 7          | 175  | 140\n",
       "Into the Night | 5          | 160  | 120\n",
       "Nostalogic     | 6          | 180  | 135\n",
       "Connect        | 7          | 172  | 128\n",
       "Rolling Girl   | 6          | 190  | 145"
      ]
     },
     "execution_count": 25,
     "metadata": {},
     "output_type": "execute_result"
    }
   ],
   "source": [
    "songs = Table().with_columns(\n",
    "    'song', ['Idola', 'Kiss Kiss Kiss', 'Clarity', 'ECHO', 'Papermoon', 'Into the Night', 'Nostalogic', 'Connect', 'Rolling Girl'],\n",
    "    'difficulty', [8, 5, 2, 6, 7, 5, 6, 7, 6],\n",
    "    'bpm', [190, 201, 128, 165, 175, 160, 180, 172, 190],\n",
    "    'length', [150, 104, 110, 130, 140, 120, 135, 128, 145]\n",
    ")\n",
    "songs"
   ]
  },
  {
   "cell_type": "code",
   "execution_count": null,
   "id": "0ca161fc",
   "metadata": {},
   "outputs": [
    {
     "data": {
      "text/html": [
       "<table border=\"1\" class=\"dataframe\">\n",
       "    <thead>\n",
       "        <tr>\n",
       "            <th>song</th> <th>difficulty</th> <th>bpm</th> <th>length</th>\n",
       "        </tr>\n",
       "    </thead>\n",
       "    <tbody>\n",
       "        <tr>\n",
       "            <td>Kiss Kiss Kiss</td> <td>5         </td> <td>201 </td> <td>104   </td>\n",
       "        </tr>\n",
       "        <tr>\n",
       "            <td>ECHO          </td> <td>6         </td> <td>165 </td> <td>130   </td>\n",
       "        </tr>\n",
       "        <tr>\n",
       "            <td>Into the Night</td> <td>5         </td> <td>160 </td> <td>120   </td>\n",
       "        </tr>\n",
       "        <tr>\n",
       "            <td>Nostalogic    </td> <td>6         </td> <td>180 </td> <td>135   </td>\n",
       "        </tr>\n",
       "        <tr>\n",
       "            <td>Rolling Girl  </td> <td>6         </td> <td>190 </td> <td>145   </td>\n",
       "        </tr>\n",
       "    </tbody>\n",
       "</table>"
      ],
      "text/plain": [
       "song           | difficulty | bpm  | length\n",
       "Kiss Kiss Kiss | 5          | 201  | 104\n",
       "ECHO           | 6          | 165  | 130\n",
       "Into the Night | 5          | 160  | 120\n",
       "Nostalogic     | 6          | 180  | 135\n",
       "Rolling Girl   | 6          | 190  | 145"
      ]
     },
     "execution_count": 26,
     "metadata": {},
     "output_type": "execute_result"
    }
   ],
   "source": [
    "intermediate_songs = songs.where('difficulty', are.between_or_equal_to(5, 7))\n",
    "intermediate_songs"
   ]
  },
  {
   "cell_type": "code",
   "execution_count": 10,
   "id": "9fb59888",
   "metadata": {},
   "outputs": [
    {
     "data": {
      "text/plain": [
       "array(['Kiss Kiss Kiss', 'Into the Night', 'ECHO', 'Nostalogic',\n",
       "       'Rolling Girl'],\n",
       "      dtype='<U14')"
      ]
     },
     "execution_count": 10,
     "metadata": {},
     "output_type": "execute_result"
    }
   ],
   "source": [
    "kristen_songs = intermediate_songs.sort('difficulty').take(np.arange(5)).column('song')\n",
    "kristen_songs"
   ]
  },
  {
   "cell_type": "code",
   "execution_count": 12,
   "id": "1e2ba704",
   "metadata": {},
   "outputs": [
    {
     "data": {
      "text/plain": [
       "array(['Into the Night'],\n",
       "      dtype='<U14')"
      ]
     },
     "execution_count": 12,
     "metadata": {},
     "output_type": "execute_result"
    }
   ],
   "source": [
    "np.random.choice(kristen_songs, 1)"
   ]
  },
  {
   "cell_type": "code",
   "execution_count": 13,
   "id": "b441ac3d",
   "metadata": {},
   "outputs": [
    {
     "data": {
      "text/html": [
       "<table border=\"1\" class=\"dataframe\">\n",
       "    <thead>\n",
       "        <tr>\n",
       "            <th>artist</th> <th>song</th>\n",
       "        </tr>\n",
       "    </thead>\n",
       "    <tbody>\n",
       "        <tr>\n",
       "            <td>NAOKI </td> <td>Kiss Kiss Kiss</td>\n",
       "        </tr>\n",
       "        <tr>\n",
       "            <td>Riyu  </td> <td>Honey Punch   </td>\n",
       "        </tr>\n",
       "        <tr>\n",
       "            <td>Sota  </td> <td>Blew my Mind  </td>\n",
       "        </tr>\n",
       "        <tr>\n",
       "            <td>NAOKI </td> <td>Red Zone      </td>\n",
       "        </tr>\n",
       "    </tbody>\n",
       "</table>"
      ],
      "text/plain": [
       "artist | song\n",
       "NAOKI  | Kiss Kiss Kiss\n",
       "Riyu   | Honey Punch\n",
       "Sota   | Blew my Mind\n",
       "NAOKI  | Red Zone"
      ]
     },
     "execution_count": 13,
     "metadata": {},
     "output_type": "execute_result"
    }
   ],
   "source": [
    "ethan_artists = make_array(\"NAOKI\", \"Junko\", \"Ryutaro\")\n",
    "artists = Table().with_columns(\n",
    "    'artist', ['NAOKI', 'Riyu', 'Sota', 'NAOKI'],\n",
    "    'song', ['Kiss Kiss Kiss', 'Honey Punch', 'Blew my Mind', 'Red Zone']\n",
    ")\n",
    "artists"
   ]
  },
  {
   "cell_type": "code",
   "execution_count": 27,
   "id": "da7abd35",
   "metadata": {},
   "outputs": [
    {
     "data": {
      "text/html": [
       "<table border=\"1\" class=\"dataframe\">\n",
       "    <thead>\n",
       "        <tr>\n",
       "            <th>song</th> <th>difficulty</th> <th>bpm</th> <th>length</th> <th>artist</th>\n",
       "        </tr>\n",
       "    </thead>\n",
       "    <tbody>\n",
       "        <tr>\n",
       "            <td>Kiss Kiss Kiss</td> <td>5         </td> <td>201 </td> <td>104   </td> <td>NAOKI </td>\n",
       "        </tr>\n",
       "    </tbody>\n",
       "</table>"
      ],
      "text/plain": [
       "song           | difficulty | bpm  | length | artist\n",
       "Kiss Kiss Kiss | 5          | 201  | 104    | NAOKI"
      ]
     },
     "execution_count": 27,
     "metadata": {},
     "output_type": "execute_result"
    }
   ],
   "source": [
    "#advanced_songs = songs.where('difficulty', are.above_or_equal_to(8))\n",
    "advanced_songs = songs\n",
    "songs_and_artists = advanced_songs.join('song', artists, 'song')\n",
    "ethan_songs = songs_and_artists.where('artist', are.contained_in(ethan_artists))\n",
    "ethan_songs"
   ]
  },
  {
   "cell_type": "code",
   "execution_count": 30,
   "id": "72ea056f",
   "metadata": {},
   "outputs": [
    {
     "data": {
      "text/html": [
       "<table border=\"1\" class=\"dataframe\">\n",
       "    <thead>\n",
       "        <tr>\n",
       "            <th>artist</th> <th>5</th>\n",
       "        </tr>\n",
       "    </thead>\n",
       "    <tbody>\n",
       "        <tr>\n",
       "            <td>NAOKI </td> <td>Kiss Kiss Kiss</td>\n",
       "        </tr>\n",
       "    </tbody>\n",
       "</table>"
      ],
      "text/plain": [
       "<IPython.core.display.HTML object>"
      ]
     },
     "metadata": {},
     "output_type": "display_data"
    }
   ],
   "source": [
    "def get_first(arr):\n",
    "    return arr.item(0)\n",
    "songs_and_artists.sort('length').pivot(\"difficulty\", \"artist\", \"song\", get_first).show()"
   ]
  },
  {
   "cell_type": "code",
   "execution_count": 31,
   "id": "4de86495",
   "metadata": {},
   "outputs": [
    {
     "data": {
      "text/html": [
       "<table border=\"1\" class=\"dataframe\">\n",
       "    <thead>\n",
       "        <tr>\n",
       "            <th>height</th> <th>enrollee</th>\n",
       "        </tr>\n",
       "    </thead>\n",
       "    <tbody>\n",
       "        <tr>\n",
       "            <td>68.5  </td> <td>college    </td>\n",
       "        </tr>\n",
       "        <tr>\n",
       "            <td>62.1  </td> <td>high school</td>\n",
       "        </tr>\n",
       "        <tr>\n",
       "            <td>66.5  </td> <td>college    </td>\n",
       "        </tr>\n",
       "    </tbody>\n",
       "</table>"
      ],
      "text/plain": [
       "height | enrollee\n",
       "68.5   | college\n",
       "62.1   | high school\n",
       "66.5   | college"
      ]
     },
     "execution_count": 31,
     "metadata": {},
     "output_type": "execute_result"
    }
   ],
   "source": [
    "heights = Table().with_columns(\n",
    "    'height', [68.5, 62.1, 66.5],\n",
    "    'enrollee', ['college', 'high school', 'college']\n",
    ")\n",
    "heights"
   ]
  },
  {
   "cell_type": "code",
   "execution_count": 38,
   "id": "1d0bfbe3",
   "metadata": {},
   "outputs": [
    {
     "data": {
      "image/png": "[encoded data removed]",
      "text/plain": [
       "<Figure size 600x400 with 1 Axes>"
      ]
     },
     "metadata": {},
     "output_type": "display_data"
    }
   ],
   "source": [
    "heights.hist('height', bins=np.arange(55, 75, 2), group='enrollee', unit='inch')"
   ]
  },
  {
   "cell_type": "code",
   "execution_count": 40,
   "id": "46559934",
   "metadata": {},
   "outputs": [
    {
     "name": "stdout",
     "output_type": "stream",
     "text": [
      "2\n",
      "1\n"
     ]
    }
   ],
   "source": [
    "def count_arr_occurences(arr, value):\n",
    "  count = 0\n",
    "  for x in arr:\n",
    "    if x == value:\n",
    "      count = count + 1\n",
    "  return count \n",
    "print(count_arr_occurences(make_array(0,1,0,5,1), 1))\n",
    "print(count_arr_occurences(make_array(\"a\", \"b\", \"c\"), \"c\"))"
   ]
  },
  {
   "cell_type": "code",
   "execution_count": 41,
   "id": "3cb03f64",
   "metadata": {},
   "outputs": [
    {
     "data": {
      "text/plain": [
       "3"
      ]
     },
     "execution_count": 41,
     "metadata": {},
     "output_type": "execute_result"
    }
   ],
   "source": [
    "sum((np.arange(131, 138) - 135) >= 0) "
   ]
  },
  {
   "cell_type": "code",
   "execution_count": 42,
   "id": "be22ef83",
   "metadata": {},
   "outputs": [
    {
     "name": "stdout",
     "output_type": "stream",
     "text": [
      "-6\n"
     ]
    }
   ],
   "source": [
    "x=1\n",
    "for i in make_array(3, 2, -1): \n",
    "  x=x*i \n",
    "print(x) "
   ]
  },
  {
   "cell_type": "code",
   "execution_count": 43,
   "id": "42e9e20a",
   "metadata": {},
   "outputs": [
    {
     "data": {
      "text/plain": [
       "True"
      ]
     },
     "execution_count": 43,
     "metadata": {},
     "output_type": "execute_result"
    }
   ],
   "source": [
    "arr1 = make_array(1, 2, 3)\n",
    "arr2 = make_array(4, 5, 6)\n",
    "len(np.append(arr1, arr2)) != len(arr1 + arr2)"
   ]
  },
  {
   "cell_type": "code",
   "execution_count": 44,
   "id": "af727442",
   "metadata": {},
   "outputs": [
    {
     "data": {
      "text/plain": [
       "array([1, 1, 1])"
      ]
     },
     "execution_count": 44,
     "metadata": {},
     "output_type": "execute_result"
    }
   ],
   "source": [
    "make_array(2, 3, 4) - make_array(1, 2, 3)"
   ]
  },
  {
   "cell_type": "code",
   "execution_count": 45,
   "id": "06e77fe8",
   "metadata": {},
   "outputs": [
    {
     "data": {
      "text/plain": [
       "2"
      ]
     },
     "execution_count": 45,
     "metadata": {},
     "output_type": "execute_result"
    }
   ],
   "source": [
    "sum(make_array(1, 2, 12) >= 2)"
   ]
  },
  {
   "cell_type": "code",
   "execution_count": 77,
   "id": "ae3033b9",
   "metadata": {},
   "outputs": [
    {
     "data": {
      "text/plain": [
       "0.2595"
      ]
     },
     "execution_count": 77,
     "metadata": {},
     "output_type": "execute_result"
    }
   ],
   "source": [
    "trash = make_array('bottle', 'bottle', 'bottle', 'box', 'box', 'food')\n",
    "def bottles(n):\n",
    "  \"Return the number of bottles in a random sample of n pieces of trash.\"\n",
    "  return sum(np.random.choice(trash, n) == 'bottle')\n",
    "\n",
    "results = make_array()\n",
    "for i in np.arange(10000):\n",
    "  results = np.append(results, bottles(20))\n",
    "p = np.count_nonzero(results >= 12) / len(results) # np.mean(results >= 12)\n",
    "p"
   ]
  },
  {
   "cell_type": "code",
   "execution_count": null,
   "id": "0bf3ecee",
   "metadata": {},
   "outputs": [
    {
     "data": {
      "text/plain": [
       "0.0014"
      ]
     },
     "execution_count": 88,
     "metadata": {},
     "output_type": "execute_result"
    }
   ],
   "source": [
    "def half_abs_sum(a):\n",
    "  \"Return half the sum of the absolute values of a single array.\"\n",
    "  return sum(np.abs(a)) / 2\n",
    "\n",
    "obs = make_array(392, 21, 0)                              # An array of counts\n",
    "dist = make_array(1e11, 1e10, 1e9) / (1e11 + 1e10 + 1e9)  # An array of proportions\n",
    "observed_stat = half_abs_sum(\n",
    "    obs - sum(obs) * dist # obs / sum(obs) - dist \n",
    ")\n",
    "\n",
    "stats = make_array()\n",
    "\n",
    "for i in np.arange(10000):\n",
    "  sample = sample_proportions(sum(obs), dist)\n",
    "  stats = np.append(stats, half_abs_sum(\n",
    "    (sample - dist) * sum(obs) # sample - dist \n",
    "))\n",
    "p_value = np.count_nonzero(stats >= observed_stat) / 10000 # sum(stats >= observed_stat) \n",
    "p_value"
   ]
  }
 ],
 "metadata": {
  "kernelspec": {
   "display_name": "Python 3",
   "language": "python",
   "name": "python3"
  },
  "language_info": {
   "codemirror_mode": {
    "name": "ipython",
    "version": 3
   },
   "file_extension": ".py",
   "mimetype": "text/x-python",
   "name": "python",
   "nbconvert_exporter": "python",
   "pygments_lexer": "ipython3",
   "version": "3.13.2"
  }
 },
 "nbformat": 4,
 "nbformat_minor": 5
}
